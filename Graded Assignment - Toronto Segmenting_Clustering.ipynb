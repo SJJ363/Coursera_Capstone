{
 "cells": [
  {
   "cell_type": "code",
   "execution_count": 45,
   "metadata": {},
   "outputs": [
    {
     "data": {
      "text/plain": [
       "(103, 3)"
      ]
     },
     "execution_count": 45,
     "metadata": {},
     "output_type": "execute_result"
    }
   ],
   "source": [
    "#import pandas\n",
    "import pandas as pd\n",
    "\n",
    "#define URL\n",
    "url='https://en.wikipedia.org/wiki/List_of_postal_codes_of_Canada:_M'\n",
    "\n",
    "#create dataframe from URL data\n",
    "df=pd.read_html(url)\n",
    "df=df[0]\n",
    "\n",
    "#Remove any rows where the Borough is not assigned\n",
    "df=df[df.Borough != 'Not assigned']\n",
    "\n",
    "#use commas in the Neighbourhood column\n",
    "df['Neighbourhood'].replace(r' \\/ ', ', ', regex=True, inplace=True)\n",
    "\n",
    "#replace any \"Not Assigned\" values in the Neighbourhood column with the appropriate value from the Borough column\n",
    "df['Neighbourhood']=df['Neighbourhood'].replace('Not assigned', df['Borough'])\n",
    "\n",
    "#get # of rows\n",
    "df.shape"
   ]
  },
  {
   "cell_type": "code",
   "execution_count": null,
   "metadata": {},
   "outputs": [],
   "source": []
  }
 ],
 "metadata": {
  "kernelspec": {
   "display_name": "Python 3.7",
   "language": "python",
   "name": "python3"
  },
  "language_info": {
   "codemirror_mode": {
    "name": "ipython",
    "version": 3
   },
   "file_extension": ".py",
   "mimetype": "text/x-python",
   "name": "python",
   "nbconvert_exporter": "python",
   "pygments_lexer": "ipython3",
   "version": "3.7.9"
  }
 },
 "nbformat": 4,
 "nbformat_minor": 1
}
